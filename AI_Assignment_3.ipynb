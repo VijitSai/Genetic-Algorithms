{
  "nbformat": 4,
  "nbformat_minor": 0,
  "metadata": {
    "colab": {
      "provenance": [],
      "collapsed_sections": [],
      "authorship_tag": "ABX9TyO4xuIsXn0xRsQOtFHm5GwU",
      "include_colab_link": true
    },
    "kernelspec": {
      "name": "python3",
      "display_name": "Python 3"
    },
    "language_info": {
      "name": "python"
    }
  },
  "cells": [
    {
      "cell_type": "markdown",
      "metadata": {
        "id": "view-in-github",
        "colab_type": "text"
      },
      "source": [
        "<a href=\"https://colab.research.google.com/github/VijitSai/Genetic-Algorithms/blob/main/AI_Assignment_3.ipynb\" target=\"_parent\"><img src=\"https://colab.research.google.com/assets/colab-badge.svg\" alt=\"Open In Colab\"/></a>"
      ]
    },
    {
      "cell_type": "markdown",
      "source": [
        "### LINEAR REGRESSION CODE"
      ],
      "metadata": {
        "id": "p-nYooQ4sgyP"
      }
    },
    {
      "cell_type": "code",
      "execution_count": null,
      "metadata": {
        "id": "iWlPeidbAzd8"
      },
      "outputs": [],
      "source": [
        "import numpy as np\n",
        "from sklearn import linear_model, metrics, model_selection\n",
        "import matplotlib.pyplot as plt\n",
        "\n",
        "\n",
        "x_data = np.linspace(-0.5, 0.5, 200)[:, np.newaxis]   \n",
        "noise = np.random.normal(0, 0.02, x_data.shape)   \n",
        "y_data = np.square(x_data) + noise\n",
        "\n",
        "# print(x_data)\n",
        "#print(y_data)"
      ]
    },
    {
      "cell_type": "code",
      "source": [
        "from sklearn.model_selection import train_test_split  \n",
        "\n",
        "x_train, x_test, y_train, y_test = train_test_split(x_data, y_data, \n",
        "test_size = 0.2, random_state = 0)"
      ],
      "metadata": {
        "id": "ZozNliA2KKVA"
      },
      "execution_count": null,
      "outputs": []
    },
    {
      "cell_type": "code",
      "source": [
        "test_model = linear_model.LinearRegression()\n",
        "test_model.fit(x_train,y_train)"
      ],
      "metadata": {
        "id": "KjmeKw4BG0Ah",
        "colab": {
          "base_uri": "https://localhost:8080/"
        },
        "outputId": "5c59d23a-d3bf-44a0-a286-2c83e97cc4d7"
      },
      "execution_count": null,
      "outputs": [
        {
          "output_type": "execute_result",
          "data": {
            "text/plain": [
              "LinearRegression()"
            ]
          },
          "metadata": {},
          "execution_count": 146
        }
      ]
    },
    {
      "cell_type": "code",
      "source": [
        "y_pred = test_model.predict(x_test)\n",
        "\n",
        "plt.scatter(x_test,y_test)\n",
        "plt.xlabel('x_test')\n",
        "plt.ylabel(\"y_pred\")\n",
        "plt.plot(x_test,y_pred,'red')"
      ],
      "metadata": {
        "id": "WAOk0uSiKcbg",
        "colab": {
          "base_uri": "https://localhost:8080/",
          "height": 297
        },
        "outputId": "0950c8e8-3bed-472c-f956-01cdbebc8d56"
      },
      "execution_count": null,
      "outputs": [
        {
          "output_type": "execute_result",
          "data": {
            "text/plain": [
              "[<matplotlib.lines.Line2D at 0x7fc91572df90>]"
            ]
          },
          "metadata": {},
          "execution_count": 178
        },
        {
          "output_type": "display_data",
          "data": {
            "text/plain": [
              "<Figure size 432x288 with 1 Axes>"
            ],
            "image/png": "[encoded data removed]"
          },
          "metadata": {
            "needs_background": "light"
          }
        }
      ]
    },
    {
      "cell_type": "code",
      "source": [
        "from sklearn.metrics import mean_squared_error\n",
        "\n",
        "mean_squared_error(y_pred,y_test)"
      ],
      "metadata": {
        "colab": {
          "base_uri": "https://localhost:8080/"
        },
        "id": "m2hPaVJP7K96",
        "outputId": "4414459b-32aa-4d56-e58d-429dde7791be"
      },
      "execution_count": null,
      "outputs": [
        {
          "output_type": "execute_result",
          "data": {
            "text/plain": [
              "0.006124063012417707"
            ]
          },
          "metadata": {},
          "execution_count": 148
        }
      ]
    },
    {
      "cell_type": "markdown",
      "source": [
        "##       POLYNOMIAL MODEL CODE\n",
        "\n"
      ],
      "metadata": {
        "id": "LhD2gl5dPtIC"
      }
    },
    {
      "cell_type": "code",
      "source": [
        "from sklearn.preprocessing import PolynomialFeatures\n",
        "import numpy as np\n",
        "from sklearn import linear_model, metrics, model_selection\n",
        "import matplotlib.pyplot as plt\n",
        "\n",
        "\n",
        "x_data = np.linspace(-0.5, 0.5, 200)[:, np.newaxis]   \n",
        "noise = np.random.normal(0, 0.02, x_data.shape)   \n",
        "y_data = np.square(x_data) + noise\n",
        "\n",
        "# print(x_data)\n",
        "#print(y_data)\n",
        "# poly = PolynomialFeatures(degree=2, include_bias=False)\n"
      ],
      "metadata": {
        "id": "Wpt5LKldPAWV"
      },
      "execution_count": null,
      "outputs": []
    },
    {
      "cell_type": "code",
      "source": [
        "from sklearn.model_selection import train_test_split\n",
        "import operator\n",
        "\n",
        "x_train, x_test, y_train, y_test = train_test_split(x_data, y_data, \n",
        "test_size = 0.2, random_state = 0)\n",
        "\n",
        "S = sorted(zip(x_test,y_test), key=operator.itemgetter(0))\n",
        "x_test, y_test = zip(*S)\n",
        "# x_test"
      ],
      "metadata": {
        "id": "pFN8KBUaQsdU"
      },
      "execution_count": null,
      "outputs": []
    },
    {
      "cell_type": "code",
      "source": [
        "x_test = np.asarray(x_test)\n",
        "\n",
        "poly = PolynomialFeatures(degree=2, include_bias=False)\n",
        "poly_features_train = poly.fit_transform(x_train.reshape(-1, 1))\n",
        "poly_features_test = poly.fit_transform(x_test.reshape(-1, 1))"
      ],
      "metadata": {
        "id": "RI4iKzNWS9hi"
      },
      "execution_count": null,
      "outputs": []
    },
    {
      "cell_type": "code",
      "source": [
        "from sklearn.linear_model import LinearRegression\n",
        "\n",
        "poly_model = LinearRegression()\n",
        "poly_model.fit(poly_features_train,y_train)\n"
      ],
      "metadata": {
        "colab": {
          "base_uri": "https://localhost:8080/"
        },
        "id": "rGLpfpviRCED",
        "outputId": "e9be9107-aadd-4b6f-82a4-daac66047d8c"
      },
      "execution_count": null,
      "outputs": [
        {
          "output_type": "execute_result",
          "data": {
            "text/plain": [
              "LinearRegression()"
            ]
          },
          "metadata": {},
          "execution_count": 173
        }
      ]
    },
    {
      "cell_type": "code",
      "source": [
        "y_pred = poly_model.predict(poly_features_test)\n",
        "\n",
        "plt.scatter(x_test,y_test)\n",
        "plt.xlabel(\"x_test\")\n",
        "plt.ylabel('y_pred')\n",
        "plt.plot(x_test,y_pred,'r')"
      ],
      "metadata": {
        "colab": {
          "base_uri": "https://localhost:8080/",
          "height": 297
        },
        "id": "HrWRCOFiRL8s",
        "outputId": "9aef35d3-645f-45bf-cb8d-1ddabbbc4dfb"
      },
      "execution_count": null,
      "outputs": [
        {
          "output_type": "execute_result",
          "data": {
            "text/plain": [
              "[<matplotlib.lines.Line2D at 0x7fc91f544f90>]"
            ]
          },
          "metadata": {},
          "execution_count": 176
        },
        {
          "output_type": "display_data",
          "data": {
            "text/plain": [
              "<Figure size 432x288 with 1 Axes>"
            ],
            "image/png": "[encoded data removed]"
          },
          "metadata": {
            "needs_background": "light"
          }
        }
      ]
    },
    {
      "cell_type": "code",
      "source": [
        "from sklearn.metrics import mean_squared_error\n",
        "\n",
        "mean_squared_error(y_pred,y_test)"
      ],
      "metadata": {
        "colab": {
          "base_uri": "https://localhost:8080/"
        },
        "id": "UOJ8XJxks3Cq",
        "outputId": "b2b80073-7ddf-45ce-c6d4-c7df96c55cc3"
      },
      "execution_count": null,
      "outputs": [
        {
          "output_type": "execute_result",
          "data": {
            "text/plain": [
              "0.0005384167817411558"
            ]
          },
          "metadata": {},
          "execution_count": 175
        }
      ]
    },
    {
      "cell_type": "markdown",
      "source": [
        "##          NEURAL NETWORK CODE"
      ],
      "metadata": {
        "id": "LerEPzziY_rd"
      }
    },
    {
      "cell_type": "code",
      "source": [
        "import numpy as np\n",
        "import tensorflow as tf\n",
        "import keras\n",
        "\n",
        "x_data = np.linspace(-0.5, 0.5, 200)[:, np.newaxis]   \n",
        "noise = np.random.normal(0, 0.02, x_data.shape)   \n",
        "y_data = np.square(x_data) + noise "
      ],
      "metadata": {
        "id": "lhgUE6WInsy9"
      },
      "execution_count": null,
      "outputs": []
    },
    {
      "cell_type": "code",
      "source": [
        "from sklearn.model_selection import train_test_split \n",
        " \n",
        "x_train, x_test, y_train, y_test = train_test_split(x_data, y_data, \n",
        "test_size = 0.2, random_state = 0)"
      ],
      "metadata": {
        "id": "sLQc8Q0vZCxO"
      },
      "execution_count": null,
      "outputs": []
    },
    {
      "cell_type": "code",
      "source": [
        "from tensorflow import keras\n",
        "from keras import layers\n",
        "from sklearn.preprocessing import StandardScaler"
      ],
      "metadata": {
        "id": "jQRB_NOCqXep"
      },
      "execution_count": null,
      "outputs": []
    },
    {
      "cell_type": "code",
      "source": [
        "scale = StandardScaler()\n",
        "x_train_scale = scale.fit_transform(x_train)\n",
        "x_test_scale = scale.transform(x_test)"
      ],
      "metadata": {
        "id": "_NAgKgk9uDG9"
      },
      "execution_count": null,
      "outputs": []
    },
    {
      "cell_type": "code",
      "source": [
        "model = keras.Sequential()\n",
        "model.add(layers.Dense(1))\n",
        "model.add(layers.Dense(6,activation='relu',input_shape=x_train[0].shape))\n",
        "model.add(layers.Dense(1))"
      ],
      "metadata": {
        "id": "9AwHVVnTuamG"
      },
      "execution_count": null,
      "outputs": []
    },
    {
      "cell_type": "code",
      "source": [
        "model.compile(optimizer='adam',loss='mean_squared_error')\n",
        "model.fit(x_train_scale, y_train, batch_size=32, epochs=10, verbose=1)"
      ],
      "metadata": {
        "colab": {
          "base_uri": "https://localhost:8080/"
        },
        "id": "oqlr14SmxlQY",
        "outputId": "7ec8d4ee-86ed-428d-c932-5619e06cf0c0"
      },
      "execution_count": null,
      "outputs": [
        {
          "output_type": "stream",
          "name": "stdout",
          "text": [
            "Epoch 1/10\n",
            "5/5 [==============================] - 0s 5ms/step - loss: 0.0072\n",
            "Epoch 2/10\n",
            "5/5 [==============================] - 0s 3ms/step - loss: 0.0053\n",
            "Epoch 3/10\n",
            "5/5 [==============================] - 0s 4ms/step - loss: 0.0044\n",
            "Epoch 4/10\n",
            "5/5 [==============================] - 0s 4ms/step - loss: 0.0038\n",
            "Epoch 5/10\n",
            "5/5 [==============================] - 0s 3ms/step - loss: 0.0036\n",
            "Epoch 6/10\n",
            "5/5 [==============================] - 0s 4ms/step - loss: 0.0035\n",
            "Epoch 7/10\n",
            "5/5 [==============================] - 0s 3ms/step - loss: 0.0033\n",
            "Epoch 8/10\n",
            "5/5 [==============================] - 0s 3ms/step - loss: 0.0031\n",
            "Epoch 9/10\n",
            "5/5 [==============================] - 0s 3ms/step - loss: 0.0029\n",
            "Epoch 10/10\n",
            "5/5 [==============================] - 0s 3ms/step - loss: 0.0027\n"
          ]
        },
        {
          "output_type": "execute_result",
          "data": {
            "text/plain": [
              "<keras.callbacks.History at 0x7fc915712f50>"
            ]
          },
          "metadata": {},
          "execution_count": 160
        }
      ]
    },
    {
      "cell_type": "code",
      "source": [
        "model.summary()"
      ],
      "metadata": {
        "colab": {
          "base_uri": "https://localhost:8080/"
        },
        "id": "PIlTTw_7xltx",
        "outputId": "e7fe9869-64e7-43f9-a99c-1cc517d8fd0c"
      },
      "execution_count": null,
      "outputs": [
        {
          "output_type": "stream",
          "name": "stdout",
          "text": [
            "Model: \"sequential_6\"\n",
            "_________________________________________________________________\n",
            " Layer (type)                Output Shape              Param #   \n",
            "=================================================================\n",
            " dense_18 (Dense)            (32, 1)                   2         \n",
            "                                                                 \n",
            " dense_19 (Dense)            (32, 6)                   12        \n",
            "                                                                 \n",
            " dense_20 (Dense)            (32, 1)                   7         \n",
            "                                                                 \n",
            "=================================================================\n",
            "Total params: 21\n",
            "Trainable params: 21\n",
            "Non-trainable params: 0\n",
            "_________________________________________________________________\n"
          ]
        }
      ]
    },
    {
      "cell_type": "code",
      "source": [
        "y_pred = model.predict(x_test_scale)\n",
        "# y_pred"
      ],
      "metadata": {
        "colab": {
          "base_uri": "https://localhost:8080/"
        },
        "id": "YyO7aTGbxzEY",
        "outputId": "800d2280-7d52-4974-ee6c-5b13e320714c"
      },
      "execution_count": null,
      "outputs": [
        {
          "output_type": "stream",
          "name": "stdout",
          "text": [
            "2/2 [==============================] - 0s 5ms/step\n"
          ]
        }
      ]
    },
    {
      "cell_type": "code",
      "source": [
        "from sklearn.metrics import mean_squared_error\n",
        "\n",
        "mean_squared_error(y_pred,y_test)"
      ],
      "metadata": {
        "colab": {
          "base_uri": "https://localhost:8080/"
        },
        "id": "SsGv2sWJ3coS",
        "outputId": "8cfd2a2e-b685-43fd-bf4d-702d1306ccf6"
      },
      "execution_count": null,
      "outputs": [
        {
          "output_type": "execute_result",
          "data": {
            "text/plain": [
              "0.0028628670051114636"
            ]
          },
          "metadata": {},
          "execution_count": 163
        }
      ]
    }
  ]
}