{
 "cells": [
  {
   "cell_type": "code",
   "execution_count": 1,
   "metadata": {},
   "outputs": [],
   "source": [
    "# Imports \n",
    "import numpy as np\n",
    "import random\n",
    "from datetime import datetime"
   ]
  },
  {
   "cell_type": "code",
   "execution_count": 2,
   "metadata": {},
   "outputs": [],
   "source": [
    "# Parameters\n",
    "n_cities = 20\n",
    "\n",
    "n_population = 100\n",
    "\n",
    "mutation_rate = 0.3"
   ]
  },
  {
   "cell_type": "code",
   "execution_count": 3,
   "metadata": {},
   "outputs": [
    {
     "data": {
      "text/plain": [
       "{'Berlin': [15, 72],\n",
       " 'London': [1, 72],\n",
       " 'Moscow': [22, 45],\n",
       " 'Barcelona': [37, 75],\n",
       " 'Rome': [72, 11],\n",
       " 'Paris': [42, 17],\n",
       " 'Vienna': [67, 43],\n",
       " 'Munich': [77, 1],\n",
       " 'Istanbul': [87, 47],\n",
       " 'Kyiv': [73, 60],\n",
       " 'Bucharest': [32, 33],\n",
       " 'Minsk': [6, 72],\n",
       " 'Warsaw': [26, 83],\n",
       " 'Budapest': [80, 39],\n",
       " 'Milan': [1, 84],\n",
       " 'Prague': [95, 68],\n",
       " 'Sofia': [58, 81],\n",
       " 'Birmingham': [36, 65],\n",
       " 'Brussels': [76, 75],\n",
       " 'Amsterdam': [72, 27]}"
      ]
     },
     "execution_count": 3,
     "metadata": {},
     "output_type": "execute_result"
    }
   ],
   "source": [
    "# Generating a list of coordenades representing each city\n",
    "coordinates_list = [[x,y] for x,y in zip(np.random.randint(0,100,n_cities),np.random.randint(0,100,n_cities))]\n",
    "names_list = np.array(['Berlin', 'London', 'Moscow', 'Barcelona', 'Rome', 'Paris', 'Vienna', 'Munich', 'Istanbul', 'Kyiv', 'Bucharest', 'Minsk', 'Warsaw', 'Budapest', 'Milan', 'Prague', 'Sofia', 'Birmingham', 'Brussels', 'Amsterdam'])\n",
    "cities_dict = { x:y for x,y in zip(names_list,coordinates_list)}\n",
    "\n",
    "# Function to compute the distance between two points\n",
    "def compute_city_distance_coordinates(a,b):\n",
    "    return ((a[0]-b[0])**2+(a[1]-b[1])**2)**0.5\n",
    "\n",
    "def compute_city_distance_names(city_a, city_b, cities_dict):\n",
    "    return compute_city_distance_coordinates(cities_dict[city_a], cities_dict[city_b])\n",
    "\n",
    "cities_dict"
   ]
  },
  {
   "cell_type": "code",
   "execution_count": 4,
   "metadata": {},
   "outputs": [
    {
     "data": {
      "text/plain": [
       "array([['Birmingham', 'Warsaw', 'Amsterdam', ..., 'Barcelona', 'London',\n",
       "        'Moscow'],\n",
       "       ['Amsterdam', 'Sofia', 'Vienna', ..., 'Munich', 'Bucharest',\n",
       "        'Prague'],\n",
       "       ['Rome', 'Prague', 'Berlin', ..., 'Milan', 'Barcelona', 'London'],\n",
       "       ...,\n",
       "       ['Brussels', 'Minsk', 'Birmingham', ..., 'Paris', 'Bucharest',\n",
       "        'Amsterdam'],\n",
       "       ['Kyiv', 'Barcelona', 'Milan', ..., 'Rome', 'Bucharest', 'Warsaw'],\n",
       "       ['Sofia', 'Bucharest', 'Barcelona', ..., 'Warsaw', 'Prague',\n",
       "        'Paris']], dtype='<U10')"
      ]
     },
     "execution_count": 4,
     "metadata": {},
     "output_type": "execute_result"
    }
   ],
   "source": [
    "# First step: Create the first population set\n",
    "def genesis(city_list, n_population):\n",
    "\n",
    "    population_set = []\n",
    "    for i in range(n_population):\n",
    "        #Randomly generating a new solution\n",
    "        sol_i = city_list[np.random.choice(list(range(n_cities)), n_cities, replace=False)]\n",
    "        population_set.append(sol_i)\n",
    "    return np.array(population_set)\n",
    "\n",
    "population_set = genesis(names_list, n_population)\n",
    "population_set"
   ]
  },
  {
   "cell_type": "code",
   "execution_count": 5,
   "metadata": {},
   "outputs": [],
   "source": [
    "def fitness_eval(city_list, cities_dict):\n",
    "    total = 0\n",
    "    for i in range(n_cities-1):\n",
    "        a = city_list[i]\n",
    "        b = city_list[i+1]\n",
    "        total += compute_city_distance_names(a,b, cities_dict)\n",
    "    return total"
   ]
  },
  {
   "cell_type": "code",
   "execution_count": 6,
   "metadata": {},
   "outputs": [
    {
     "data": {
      "text/plain": [
       "array([ 962.9656404 ,  903.34883024,  862.40214294,  914.15870436,\n",
       "        996.98492535,  927.3494189 ,  984.76775291, 1004.9143699 ,\n",
       "        967.77804821,  899.43955608,  968.98553301,  695.61010551,\n",
       "       1048.41786566,  886.92661398, 1130.47302346, 1063.90868689,\n",
       "        787.69089688, 1042.75410732,  909.71981335,  950.67636957,\n",
       "        848.6976465 ,  772.18643752,  905.74709534,  903.3247066 ,\n",
       "        881.14311572,  886.65973758, 1036.87288509,  800.61987596,\n",
       "        995.04316118,  984.90600155,  923.37176718, 1034.74770749,\n",
       "        940.70514825,  795.08110711,  914.74786135,  967.55786359,\n",
       "        890.44720406,  986.36370689, 1115.1594952 ,  967.61801019,\n",
       "       1179.08328913,  923.24733459, 1137.39084115,  884.17002941,\n",
       "       1246.4474379 ,  884.87028167, 1002.6525649 , 1088.44099748,\n",
       "        905.88459129,  975.35412439,  940.96586305,  991.10998349,\n",
       "        937.78165909,  977.65962312,  971.09183274,  988.68563626,\n",
       "        965.74670493, 1045.71559649, 1054.73692224,  971.14517932,\n",
       "       1017.51423702,  839.9152345 , 1047.69288606,  749.22136143,\n",
       "       1025.14022005,  902.59383729,  962.5465785 , 1187.14061688,\n",
       "        913.17152897,  983.20975779, 1044.39786047,  906.19027537,\n",
       "       1101.81162458, 1041.20875612,  895.57910555,  854.97817613,\n",
       "        818.45151305,  961.59028549, 1015.52463445, 1029.52703253,\n",
       "       1065.95597279,  861.67414596,  969.18775721,  892.71515216,\n",
       "       1026.66899742, 1029.43443489,  916.92847601, 1004.21161025,\n",
       "        699.66694484,  985.21574547,  993.8955707 , 1065.04230559,\n",
       "       1061.30967776,  871.99794109, 1075.18648606, 1012.76312474,\n",
       "        977.12094592,  920.75689974,  827.51734036,  987.68641438])"
      ]
     },
     "execution_count": 6,
     "metadata": {},
     "output_type": "execute_result"
    }
   ],
   "source": [
    "def get_all_fitnes(population_set, cities_dict):\n",
    "    fitnes_list = np.zeros(n_population)\n",
    "\n",
    "    #Looping over all solutions computing the fitness for each solution\n",
    "    for i in  range(n_population):\n",
    "        fitnes_list[i] = fitness_eval(population_set[i], cities_dict)\n",
    "\n",
    "    return fitnes_list\n",
    "\n",
    "fitnes_list = get_all_fitnes(population_set,cities_dict)\n",
    "fitnes_list"
   ]
  },
  {
   "cell_type": "code",
   "execution_count": 7,
   "metadata": {},
   "outputs": [
    {
     "data": {
      "text/plain": [
       "array(['Kyiv', 'Vienna', 'Birmingham', 'Minsk', 'Barcelona', 'Prague',\n",
       "       'Paris', 'Budapest', 'Warsaw', 'Rome', 'London', 'Moscow', 'Milan',\n",
       "       'Amsterdam', 'Munich', 'Istanbul', 'Brussels', 'Berlin', 'Sofia',\n",
       "       'Bucharest'], dtype='<U10')"
      ]
     },
     "execution_count": 7,
     "metadata": {},
     "output_type": "execute_result"
    }
   ],
   "source": [
    "def progenitor_selection(population_set,fitnes_list):\n",
    "    total_fit = fitnes_list.sum()\n",
    "    prob_list = fitnes_list/total_fit\n",
    "    \n",
    "    #Notice there is the chance that a progenitor. mates with oneself\n",
    "    progenitor_list_a = np.random.choice(list(range(len(population_set))), len(population_set),p=prob_list, replace=True)\n",
    "    progenitor_list_b = np.random.choice(list(range(len(population_set))), len(population_set),p=prob_list, replace=True)\n",
    "    \n",
    "    progenitor_list_a = population_set[progenitor_list_a]\n",
    "    progenitor_list_b = population_set[progenitor_list_b]\n",
    "    \n",
    "    \n",
    "    return np.array([progenitor_list_a,progenitor_list_b])\n",
    "\n",
    "\n",
    "progenitor_list = progenitor_selection(population_set,fitnes_list)\n",
    "progenitor_list[0][2]"
   ]
  },
  {
   "cell_type": "code",
   "execution_count": 8,
   "metadata": {},
   "outputs": [
    {
     "data": {
      "text/plain": [
       "array(['Moscow', 'Milan', 'Warsaw', 'Munich', 'Kyiv', 'Vienna',\n",
       "       'Birmingham', 'Budapest', 'Barcelona', 'Brussels', 'London',\n",
       "       'Paris', 'Rome', 'Prague', 'Berlin', 'Sofia', 'Istanbul',\n",
       "       'Amsterdam', 'Minsk', 'Bucharest'], dtype='<U10')"
      ]
     },
     "execution_count": 8,
     "metadata": {},
     "output_type": "execute_result"
    }
   ],
   "source": [
    "def mate_progenitors(prog_a, prog_b):\n",
    "    offspring = prog_a[0:5]\n",
    "\n",
    "    for city in prog_b:\n",
    "\n",
    "        if not city in offspring:\n",
    "            offspring = np.concatenate((offspring,[city]))\n",
    "\n",
    "    return offspring\n",
    "            \n",
    "    \n",
    "    \n",
    "def mate_population(progenitor_list):\n",
    "    new_population_set = []\n",
    "    for i in range(progenitor_list.shape[1]):\n",
    "        prog_a, prog_b = progenitor_list[0][i], progenitor_list[1][i]\n",
    "        offspring = mate_progenitors(prog_a, prog_b)\n",
    "        new_population_set.append(offspring)\n",
    "        \n",
    "    return new_population_set\n",
    "\n",
    "new_population_set = mate_population(progenitor_list)\n",
    "new_population_set[0]"
   ]
  },
  {
   "cell_type": "code",
   "execution_count": 9,
   "metadata": {},
   "outputs": [
    {
     "data": {
      "text/plain": [
       "array(['Moscow', 'Sofia', 'Warsaw', 'Munich', 'Brussels', 'Vienna',\n",
       "       'Paris', 'Budapest', 'Rome', 'Kyiv', 'Barcelona', 'Birmingham',\n",
       "       'London', 'Prague', 'Berlin', 'Milan', 'Istanbul', 'Amsterdam',\n",
       "       'Minsk', 'Bucharest'], dtype='<U10')"
      ]
     },
     "execution_count": 9,
     "metadata": {},
     "output_type": "execute_result"
    }
   ],
   "source": [
    "def mutate_offspring(offspring):\n",
    "    for q in range(int(n_cities*mutation_rate)):\n",
    "        a = np.random.randint(0,n_cities)\n",
    "        b = np.random.randint(0,n_cities)\n",
    "\n",
    "        offspring[a], offspring[b] = offspring[b], offspring[a]\n",
    "\n",
    "    return offspring\n",
    "    \n",
    "    \n",
    "def mutate_population(new_population_set):\n",
    "    mutated_pop = []\n",
    "    for offspring in new_population_set:\n",
    "        mutated_pop.append(mutate_offspring(offspring))\n",
    "    return mutated_pop\n",
    "\n",
    "mutated_pop = mutate_population(new_population_set)\n",
    "mutated_pop[0]"
   ]
  },
  {
   "cell_type": "code",
   "execution_count": 10,
   "metadata": {},
   "outputs": [
    {
     "name": "stdout",
     "output_type": "stream",
     "text": [
      "0 inf 960.7479489748721 25/05/22 10:55\n",
      "50 598.8877269304701 959.1479901032847 25/05/22 10:55\n",
      "100 532.192692198039 959.1562570920673 25/05/22 10:55\n",
      "150 532.192692198039 968.5703380011862 25/05/22 10:55\n",
      "200 532.192692198039 969.8616692729005 25/05/22 10:55\n",
      "250 532.192692198039 961.2650179483641 25/05/22 10:55\n",
      "300 532.192692198039 977.4155994602722 25/05/22 10:55\n",
      "350 532.192692198039 958.0591526944776 25/05/22 10:55\n",
      "400 532.192692198039 965.3645844320209 25/05/22 10:55\n",
      "450 532.192692198039 963.6161347056378 25/05/22 10:55\n",
      "500 532.192692198039 972.2092964592971 25/05/22 10:55\n",
      "550 532.192692198039 965.5250600258111 25/05/22 10:55\n",
      "600 532.192692198039 968.3362818441161 25/05/22 10:55\n",
      "650 532.192692198039 962.6928690969451 25/05/22 10:55\n",
      "700 532.192692198039 960.8496283046179 25/05/22 10:55\n",
      "750 532.192692198039 975.6636395022506 25/05/22 10:55\n",
      "800 532.192692198039 961.0172026792596 25/05/22 10:55\n",
      "850 532.192692198039 954.8220111479557 25/05/22 10:55\n",
      "900 532.192692198039 973.7068774410055 25/05/22 10:55\n",
      "950 532.192692198039 972.7750067356817 25/05/22 10:55\n",
      "1000 532.192692198039 969.0390161260835 25/05/22 10:55\n",
      "1050 532.192692198039 971.4096024669868 25/05/22 10:55\n",
      "1100 532.192692198039 973.4740746180781 25/05/22 10:55\n",
      "1150 532.192692198039 973.4739977731989 25/05/22 10:55\n",
      "1200 532.192692198039 946.5004139287457 25/05/22 10:55\n",
      "1250 532.192692198039 962.4581629478718 25/05/22 10:55\n",
      "1300 532.192692198039 960.9938993176959 25/05/22 10:55\n",
      "1350 532.192692198039 977.9792446716529 25/05/22 10:55\n",
      "1400 532.192692198039 961.3647607114057 25/05/22 10:55\n",
      "1450 532.192692198039 957.926772899637 25/05/22 10:55\n",
      "1500 532.192692198039 978.1610244144816 25/05/22 10:55\n",
      "1550 532.192692198039 969.1193056348278 25/05/22 10:55\n",
      "1600 532.192692198039 974.9626691737674 25/05/22 10:55\n",
      "1650 532.192692198039 958.8170906107237 25/05/22 10:55\n",
      "1700 532.192692198039 951.5051057719905 25/05/22 10:55\n",
      "1750 532.192692198039 964.8597504061453 25/05/22 10:55\n",
      "1800 532.192692198039 975.0101396441314 25/05/22 10:56\n",
      "1850 532.192692198039 971.5507900236751 25/05/22 10:56\n",
      "1900 532.192692198039 963.4982811967972 25/05/22 10:56\n",
      "1950 532.192692198039 958.6832648888673 25/05/22 10:56\n",
      "2000 532.192692198039 960.0063567506837 25/05/22 10:56\n",
      "2050 532.192692198039 965.829361153137 25/05/22 10:56\n",
      "2100 532.192692198039 964.002466780132 25/05/22 10:56\n",
      "2150 532.192692198039 960.1259575408196 25/05/22 10:56\n",
      "2200 532.192692198039 959.1573966425673 25/05/22 10:56\n",
      "2250 532.192692198039 971.6421741284223 25/05/22 10:56\n",
      "2300 532.192692198039 958.5109880803592 25/05/22 10:56\n",
      "2350 532.192692198039 971.6289674052287 25/05/22 10:56\n",
      "2400 532.192692198039 969.9731371290987 25/05/22 10:56\n",
      "2450 532.192692198039 957.5276382596014 25/05/22 10:56\n",
      "2500 532.192692198039 958.2202924651423 25/05/22 10:56\n",
      "2550 532.192692198039 970.7129718336731 25/05/22 10:56\n",
      "2600 532.192692198039 971.6649333761582 25/05/22 10:56\n",
      "2650 532.192692198039 971.4646695002978 25/05/22 10:56\n",
      "2700 532.192692198039 954.9892226323454 25/05/22 10:56\n",
      "2750 532.192692198039 963.1843477034538 25/05/22 10:56\n",
      "2800 532.192692198039 971.647335735788 25/05/22 10:56\n",
      "2850 532.192692198039 968.2495047240809 25/05/22 10:56\n",
      "2900 532.192692198039 965.2984031496761 25/05/22 10:56\n",
      "2950 532.192692198039 963.3140182508085 25/05/22 10:56\n",
      "3000 532.192692198039 959.6075892785498 25/05/22 10:56\n",
      "3050 532.192692198039 959.3624548097237 25/05/22 10:56\n",
      "3100 532.192692198039 961.155461789786 25/05/22 10:56\n",
      "3150 532.192692198039 962.7015410348421 25/05/22 10:56\n",
      "3200 532.192692198039 982.6611213384964 25/05/22 10:56\n",
      "3250 532.192692198039 955.0768337943034 25/05/22 10:56\n",
      "3300 532.192692198039 958.1885316525617 25/05/22 10:56\n",
      "3350 532.192692198039 965.7643287359301 25/05/22 10:56\n",
      "3400 532.192692198039 958.7263903691454 25/05/22 10:56\n",
      "3450 532.192692198039 966.9023362360782 25/05/22 10:56\n",
      "3500 532.192692198039 965.025700209089 25/05/22 10:56\n",
      "3550 532.192692198039 972.7552204762511 25/05/22 10:56\n",
      "3600 532.192692198039 982.2246189111157 25/05/22 10:56\n",
      "3650 532.192692198039 972.1105185622375 25/05/22 10:56\n",
      "3700 532.192692198039 967.739264103582 25/05/22 10:56\n",
      "3750 532.192692198039 959.976185049102 25/05/22 10:56\n",
      "3800 532.192692198039 974.4480963102175 25/05/22 10:56\n",
      "3850 532.192692198039 974.703526025438 25/05/22 10:56\n",
      "3900 532.192692198039 975.4400287167156 25/05/22 10:56\n",
      "3950 532.192692198039 960.5370596629767 25/05/22 10:56\n",
      "4000 532.192692198039 959.2355758001743 25/05/22 10:56\n",
      "4050 532.192692198039 963.892662086907 25/05/22 10:56\n",
      "4100 532.192692198039 968.6290024650046 25/05/22 10:56\n",
      "4150 532.192692198039 964.4531382400544 25/05/22 10:56\n",
      "4200 532.192692198039 977.9366519195719 25/05/22 10:56\n",
      "4250 532.192692198039 966.7233543680261 25/05/22 10:56\n",
      "4300 532.192692198039 954.6816713278813 25/05/22 10:56\n",
      "4350 532.192692198039 957.2380760334541 25/05/22 10:56\n",
      "4400 532.192692198039 961.332765585665 25/05/22 10:56\n",
      "4450 532.192692198039 974.6007432001369 25/05/22 10:56\n",
      "4500 532.192692198039 951.7390203005909 25/05/22 10:56\n",
      "4550 532.192692198039 959.7902087409748 25/05/22 10:56\n",
      "4600 532.192692198039 949.9966456143874 25/05/22 10:56\n",
      "4650 532.192692198039 980.4335215030903 25/05/22 10:56\n",
      "4700 532.192692198039 968.0510236500565 25/05/22 10:56\n",
      "4750 532.192692198039 956.431824041839 25/05/22 10:56\n",
      "4800 532.192692198039 969.3524664869269 25/05/22 10:56\n",
      "4850 532.192692198039 964.4383889994205 25/05/22 10:57\n",
      "4900 532.192692198039 979.426819301496 25/05/22 10:57\n",
      "4950 532.192692198039 962.2236403757238 25/05/22 10:57\n",
      "5000 532.192692198039 971.5629269039506 25/05/22 10:57\n",
      "5050 532.192692198039 962.176188815312 25/05/22 10:57\n",
      "5100 532.192692198039 958.357012103516 25/05/22 10:57\n",
      "5150 532.192692198039 957.8973197060415 25/05/22 10:57\n",
      "5200 532.192692198039 980.9639706250438 25/05/22 10:57\n",
      "5250 532.192692198039 972.6098997837508 25/05/22 10:57\n",
      "5300 532.192692198039 970.9512064676351 25/05/22 10:57\n",
      "5350 532.192692198039 962.995055745502 25/05/22 10:57\n",
      "5400 532.192692198039 973.1170836483255 25/05/22 10:57\n",
      "5450 532.192692198039 966.0693761940857 25/05/22 10:57\n",
      "5500 532.192692198039 961.8708855789794 25/05/22 10:57\n",
      "5550 532.192692198039 962.5434704841131 25/05/22 10:57\n",
      "5600 532.192692198039 977.6029890747441 25/05/22 10:57\n",
      "5650 532.192692198039 962.6857702412156 25/05/22 10:57\n",
      "5700 532.192692198039 980.458339190588 25/05/22 10:57\n",
      "5750 532.192692198039 966.7629369317893 25/05/22 10:57\n",
      "5800 532.192692198039 964.8717849148734 25/05/22 10:57\n",
      "5850 532.192692198039 975.3219317288557 25/05/22 10:57\n",
      "5900 532.192692198039 968.2631900632127 25/05/22 10:57\n",
      "5950 532.192692198039 957.158363038896 25/05/22 10:57\n",
      "6000 532.192692198039 969.385984952153 25/05/22 10:57\n",
      "6050 532.192692198039 963.0183888075692 25/05/22 10:57\n",
      "6100 532.192692198039 953.2879086795247 25/05/22 10:57\n",
      "6150 532.192692198039 968.3674408826394 25/05/22 10:57\n",
      "6200 532.192692198039 956.1434283081376 25/05/22 10:57\n",
      "6250 532.192692198039 971.0286687663533 25/05/22 10:57\n",
      "6300 532.192692198039 955.3722520348767 25/05/22 10:57\n",
      "6350 532.192692198039 970.0566063373611 25/05/22 10:57\n",
      "6400 532.192692198039 961.5815542554732 25/05/22 10:57\n",
      "6450 532.192692198039 963.5703612969794 25/05/22 10:57\n",
      "6500 532.192692198039 967.2459535475936 25/05/22 10:57\n",
      "6550 532.192692198039 961.4620484626113 25/05/22 10:57\n",
      "6600 532.192692198039 958.3178758357012 25/05/22 10:57\n",
      "6650 532.192692198039 969.4656274275882 25/05/22 10:57\n",
      "6700 532.192692198039 957.4545482985206 25/05/22 10:57\n",
      "6750 532.192692198039 955.6960910574381 25/05/22 10:57\n",
      "6800 532.192692198039 950.4452718154139 25/05/22 10:57\n",
      "6850 532.192692198039 964.5037780152459 25/05/22 10:57\n",
      "6900 532.192692198039 965.4967428903548 25/05/22 10:57\n",
      "6950 532.192692198039 971.917585363092 25/05/22 10:57\n",
      "7000 532.192692198039 976.898320990234 25/05/22 10:57\n",
      "7050 532.192692198039 969.9696499239561 25/05/22 10:57\n",
      "7100 532.192692198039 979.0894669438873 25/05/22 10:57\n",
      "7150 532.192692198039 954.5707895919144 25/05/22 10:57\n",
      "7200 532.192692198039 960.4363398970455 25/05/22 10:57\n",
      "7250 532.192692198039 966.2204242369239 25/05/22 10:57\n",
      "7300 532.192692198039 968.7290748086376 25/05/22 10:57\n",
      "7350 532.192692198039 975.3878414520748 25/05/22 10:57\n",
      "7400 532.192692198039 979.3168438842575 25/05/22 10:57\n",
      "7450 532.192692198039 959.0962677851586 25/05/22 10:57\n"
     ]
    },
    {
     "name": "stdout",
     "output_type": "stream",
     "text": [
      "7500 532.192692198039 970.4694131831665 25/05/22 10:57\n",
      "7550 532.192692198039 951.0564742041253 25/05/22 10:57\n",
      "7600 532.192692198039 953.4393736063455 25/05/22 10:57\n"
     ]
    },
    {
     "ename": "KeyboardInterrupt",
     "evalue": "",
     "output_type": "error",
     "traceback": [
      "\u001b[1;31m---------------------------------------------------------------------------\u001b[0m",
      "\u001b[1;31mKeyboardInterrupt\u001b[0m                         Traceback (most recent call last)",
      "\u001b[1;32m<ipython-input-10-b66f9a569468>\u001b[0m in \u001b[0;36m<module>\u001b[1;34m\u001b[0m\n\u001b[0;32m     10\u001b[0m         \u001b[0mbest_solution\u001b[0m\u001b[1;33m[\u001b[0m\u001b[1;36m2\u001b[0m\u001b[1;33m]\u001b[0m \u001b[1;33m=\u001b[0m \u001b[0mnp\u001b[0m\u001b[1;33m.\u001b[0m\u001b[0marray\u001b[0m\u001b[1;33m(\u001b[0m\u001b[0mmutated_pop\u001b[0m\u001b[1;33m)\u001b[0m\u001b[1;33m[\u001b[0m\u001b[0mfitnes_list\u001b[0m\u001b[1;33m.\u001b[0m\u001b[0mmin\u001b[0m\u001b[1;33m(\u001b[0m\u001b[1;33m)\u001b[0m \u001b[1;33m==\u001b[0m \u001b[0mfitnes_list\u001b[0m\u001b[1;33m]\u001b[0m\u001b[1;33m\u001b[0m\u001b[1;33m\u001b[0m\u001b[0m\n\u001b[0;32m     11\u001b[0m \u001b[1;33m\u001b[0m\u001b[0m\n\u001b[1;32m---> 12\u001b[1;33m     \u001b[0mprogenitor_list\u001b[0m \u001b[1;33m=\u001b[0m \u001b[0mprogenitor_selection\u001b[0m\u001b[1;33m(\u001b[0m\u001b[0mpopulation_set\u001b[0m\u001b[1;33m,\u001b[0m\u001b[0mfitnes_list\u001b[0m\u001b[1;33m)\u001b[0m\u001b[1;33m\u001b[0m\u001b[1;33m\u001b[0m\u001b[0m\n\u001b[0m\u001b[0;32m     13\u001b[0m     \u001b[0mnew_population_set\u001b[0m \u001b[1;33m=\u001b[0m \u001b[0mmate_population\u001b[0m\u001b[1;33m(\u001b[0m\u001b[0mprogenitor_list\u001b[0m\u001b[1;33m)\u001b[0m\u001b[1;33m\u001b[0m\u001b[1;33m\u001b[0m\u001b[0m\n\u001b[0;32m     14\u001b[0m \u001b[1;33m\u001b[0m\u001b[0m\n",
      "\u001b[1;32m<ipython-input-7-8c6e870399a3>\u001b[0m in \u001b[0;36mprogenitor_selection\u001b[1;34m(population_set, fitnes_list)\u001b[0m\n\u001b[0;32m      7\u001b[0m     \u001b[0mprogenitor_list_b\u001b[0m \u001b[1;33m=\u001b[0m \u001b[0mnp\u001b[0m\u001b[1;33m.\u001b[0m\u001b[0mrandom\u001b[0m\u001b[1;33m.\u001b[0m\u001b[0mchoice\u001b[0m\u001b[1;33m(\u001b[0m\u001b[0mlist\u001b[0m\u001b[1;33m(\u001b[0m\u001b[0mrange\u001b[0m\u001b[1;33m(\u001b[0m\u001b[0mlen\u001b[0m\u001b[1;33m(\u001b[0m\u001b[0mpopulation_set\u001b[0m\u001b[1;33m)\u001b[0m\u001b[1;33m)\u001b[0m\u001b[1;33m)\u001b[0m\u001b[1;33m,\u001b[0m \u001b[0mlen\u001b[0m\u001b[1;33m(\u001b[0m\u001b[0mpopulation_set\u001b[0m\u001b[1;33m)\u001b[0m\u001b[1;33m,\u001b[0m\u001b[0mp\u001b[0m\u001b[1;33m=\u001b[0m\u001b[0mprob_list\u001b[0m\u001b[1;33m,\u001b[0m \u001b[0mreplace\u001b[0m\u001b[1;33m=\u001b[0m\u001b[1;32mTrue\u001b[0m\u001b[1;33m)\u001b[0m\u001b[1;33m\u001b[0m\u001b[1;33m\u001b[0m\u001b[0m\n\u001b[0;32m      8\u001b[0m \u001b[1;33m\u001b[0m\u001b[0m\n\u001b[1;32m----> 9\u001b[1;33m     \u001b[0mprogenitor_list_a\u001b[0m \u001b[1;33m=\u001b[0m \u001b[0mpopulation_set\u001b[0m\u001b[1;33m[\u001b[0m\u001b[0mprogenitor_list_a\u001b[0m\u001b[1;33m]\u001b[0m\u001b[1;33m\u001b[0m\u001b[1;33m\u001b[0m\u001b[0m\n\u001b[0m\u001b[0;32m     10\u001b[0m     \u001b[0mprogenitor_list_b\u001b[0m \u001b[1;33m=\u001b[0m \u001b[0mpopulation_set\u001b[0m\u001b[1;33m[\u001b[0m\u001b[0mprogenitor_list_b\u001b[0m\u001b[1;33m]\u001b[0m\u001b[1;33m\u001b[0m\u001b[1;33m\u001b[0m\u001b[0m\n\u001b[0;32m     11\u001b[0m \u001b[1;33m\u001b[0m\u001b[0m\n",
      "\u001b[1;31mKeyboardInterrupt\u001b[0m: "
     ]
    }
   ],
   "source": [
    "best_solution = [-1,np.inf,np.array([])]\n",
    "for i in range(10000):\n",
    "    if i%50==0: print(i, best_solution[1], fitnes_list.mean(), datetime.now().strftime(\"%d/%m/%y %H:%M\"))\n",
    "    fitnes_list = get_all_fitnes(mutated_pop,cities_dict)\n",
    "    \n",
    "    #Saving the best solution\n",
    "    if fitnes_list.min() < best_solution[1]:\n",
    "        best_solution[0] = i\n",
    "        best_solution[1] = fitnes_list.min()\n",
    "        best_solution[2] = np.array(mutated_pop)[fitnes_list.min() == fitnes_list]\n",
    "    \n",
    "    progenitor_list = progenitor_selection(population_set,fitnes_list)\n",
    "    new_population_set = mate_population(progenitor_list)\n",
    "    \n",
    "    mutated_pop = mutate_population(new_population_set)"
   ]
  },
  {
   "cell_type": "code",
   "execution_count": 31,
   "metadata": {},
   "outputs": [
    {
     "data": {
      "text/plain": [
       "[8454,\n",
       " 595.921855435766,\n",
       " array([['Budapest', 'Prague', 'Rome', 'Warsaw', 'Sofia', 'Milan',\n",
       "         'Vienna', 'Barcelona', 'Paris', 'Kyiv', 'Amsterdam', 'London',\n",
       "         'Brussels', 'Istanbul', 'Berlin', 'Bucharest', 'Minsk',\n",
       "         'Birmingham', 'Moscow', 'Munich']], dtype='<U10')]"
      ]
     },
     "execution_count": 31,
     "metadata": {},
     "output_type": "execute_result"
    }
   ],
   "source": [
    "best_solution"
   ]
  },
  {
   "cell_type": "code",
   "execution_count": null,
   "metadata": {},
   "outputs": [],
   "source": []
  }
 ],
 "metadata": {
  "kernelspec": {
   "display_name": "Python 3",
   "language": "python",
   "name": "python3"
  },
  "language_info": {
   "codemirror_mode": {
    "name": "ipython",
    "version": 3
   },
   "file_extension": ".py",
   "mimetype": "text/x-python",
   "name": "python",
   "nbconvert_exporter": "python",
   "pygments_lexer": "ipython3",
   "version": "3.6.8"
  }
 },
 "nbformat": 4,
 "nbformat_minor": 2
}
